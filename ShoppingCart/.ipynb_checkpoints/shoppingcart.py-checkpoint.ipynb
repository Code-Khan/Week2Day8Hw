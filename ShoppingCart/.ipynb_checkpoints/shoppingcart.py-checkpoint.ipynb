{
 "cells": [
  {
   "cell_type": "code",
   "execution_count": null,
   "metadata": {},
   "outputs": [
    {
     "name": "stdout",
     "output_type": "stream",
     "text": [
      "Add Item?, Delete Item?, Quit?, Checkout? add item\n",
      "Add Item?, Delete Item?, Quit?, Checkout? Add Item\n",
      "What item would you like to add? Eggs\n",
      "Add Item?, Delete Item?, Quit?, Checkout? Checkout\n",
      "{'Eggs': 1}\n"
     ]
    }
   ],
   "source": [
    "def shoppingcart():\n",
    "    cart={}\n",
    "    while True:\n",
    "        action = input(\"Add Item?, Delete Item?, Quit?, Checkout? \")\n",
    "        if action == \"Add Item\":\n",
    "            item = input(\"What item would you like to add? \")\n",
    "            cart[item]= 1\n",
    "        if action == \"Delete Item\":\n",
    "            item = input(\"What item would you like to delete? \")\n",
    "            cart[item]= cart[item] -1\n",
    "        if action == \"Quit\":\n",
    "            break\n",
    "        if action == \"Checkout\":\n",
    "            \n",
    "            print(cart)\n",
    "            \n",
    "shoppingcart()\n",
    "        \n",
    "        \n",
    "    "
   ]
  },
  {
   "cell_type": "code",
   "execution_count": null,
   "metadata": {},
   "outputs": [],
   "source": [
    "shoppingcart()"
   ]
  },
  {
   "cell_type": "code",
   "execution_count": null,
   "metadata": {},
   "outputs": [],
   "source": []
  },
  {
   "cell_type": "code",
   "execution_count": null,
   "metadata": {},
   "outputs": [],
   "source": []
  }
 ],
 "metadata": {
  "kernelspec": {
   "display_name": "Python 3",
   "language": "python",
   "name": "python3"
  },
  "language_info": {
   "codemirror_mode": {
    "name": "ipython",
    "version": 3
   },
   "file_extension": ".py",
   "mimetype": "text/x-python",
   "name": "python",
   "nbconvert_exporter": "python",
   "pygments_lexer": "ipython3",
   "version": "3.8.5"
  }
 },
 "nbformat": 4,
 "nbformat_minor": 4
}
