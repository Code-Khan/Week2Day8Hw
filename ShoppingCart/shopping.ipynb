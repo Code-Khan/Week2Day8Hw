# Circumference Function

import math
radius= float(input("Enter the radius of the circle : ))
                    
circumference + 2 = math.pi * radius 
                    
print("circumference of the circle is :%.2f" Circumference)
                    
# Area Function
 
height = float(input("Please enter the height: "))
width = float(input("Please enter the width: "))
             
area = height * width
print ("The area for the given dimensions is", area)
    
    